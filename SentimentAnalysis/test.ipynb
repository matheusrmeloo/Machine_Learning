{
 "cells": [
  {
   "cell_type": "code",
   "execution_count": 1,
   "metadata": {},
   "outputs": [
    {
     "name": "stderr",
     "output_type": "stream",
     "text": [
      "Using TensorFlow backend.\n"
     ]
    }
   ],
   "source": [
    "import pandas as pd\n",
    "import keras\n",
    "from sklearn.model_selection import train_test_split\n",
    "from keras.preprocessing import sequence\n",
    "from keras import Sequential\n",
    "from keras.layers import Embedding, LSTM, Dense, Dropout"
   ]
  },
  {
   "cell_type": "code",
   "execution_count": 2,
   "metadata": {},
   "outputs": [
    {
     "data": {
      "text/html": [
       "<div>\n",
       "<style scoped>\n",
       "    .dataframe tbody tr th:only-of-type {\n",
       "        vertical-align: middle;\n",
       "    }\n",
       "\n",
       "    .dataframe tbody tr th {\n",
       "        vertical-align: top;\n",
       "    }\n",
       "\n",
       "    .dataframe thead th {\n",
       "        text-align: right;\n",
       "    }\n",
       "</style>\n",
       "<table border=\"1\" class=\"dataframe\">\n",
       "  <thead>\n",
       "    <tr style=\"text-align: right;\">\n",
       "      <th></th>\n",
       "      <th>tweet_text</th>\n",
       "      <th>sentiment</th>\n",
       "      <th>sentiment_confidence_summary</th>\n",
       "    </tr>\n",
       "  </thead>\n",
       "  <tbody>\n",
       "    <tr>\n",
       "      <th>0</th>\n",
       "      <td>:Hello Japan is a nuclear power plant crisis. ...</td>\n",
       "      <td>Negative</td>\n",
       "      <td>\"Neutral / author is just sharing information\"...</td>\n",
       "    </tr>\n",
       "    <tr>\n",
       "      <th>1</th>\n",
       "      <td>. Renewable Energy Consumption Tops Nuclear fo...</td>\n",
       "      <td>Neutral / author is just sharing information</td>\n",
       "      <td>\"Neutral / author is just sharing information\"...</td>\n",
       "    </tr>\n",
       "    <tr>\n",
       "      <th>2</th>\n",
       "      <td>. Will liberals now seek to eliminate dangerou...</td>\n",
       "      <td>Neutral / author is just sharing information</td>\n",
       "      <td>\"Neutral / author is just sharing information\"...</td>\n",
       "    </tr>\n",
       "    <tr>\n",
       "      <th>3</th>\n",
       "      <td>(Aug 22,2011)Plant Status of Fukushima Daiichi...</td>\n",
       "      <td>Neutral / author is just sharing information</td>\n",
       "      <td>\"Neutral / author is just sharing information\"...</td>\n",
       "    </tr>\n",
       "    <tr>\n",
       "      <th>4</th>\n",
       "      <td>[ebook] Nuclear Energy and the Environment: Ox...</td>\n",
       "      <td>Neutral / author is just sharing information</td>\n",
       "      <td>\"Neutral / author is just sharing information\"...</td>\n",
       "    </tr>\n",
       "    <tr>\n",
       "      <th>5</th>\n",
       "      <td>NaN</td>\n",
       "      <td>Neutral / author is just sharing information</td>\n",
       "      <td>\"Neutral / author is just sharing information\"...</td>\n",
       "    </tr>\n",
       "    <tr>\n",
       "      <th>6</th>\n",
       "      <td>[news] Nuclear Power Plant: Radioactive Tritiu...</td>\n",
       "      <td>Neutral / author is just sharing information</td>\n",
       "      <td>\"Neutral / author is just sharing information\"...</td>\n",
       "    </tr>\n",
       "    <tr>\n",
       "      <th>7</th>\n",
       "      <td>[science] Nuclear Energy and the Environment: ...</td>\n",
       "      <td>Neutral / author is just sharing information</td>\n",
       "      <td>\"Neutral / author is just sharing information\"...</td>\n",
       "    </tr>\n",
       "    <tr>\n",
       "      <th>8</th>\n",
       "      <td>{link} :P How many windmills would you need to...</td>\n",
       "      <td>Neutral / author is just sharing information</td>\n",
       "      <td>\"Neutral / author is just sharing information\"...</td>\n",
       "    </tr>\n",
       "    <tr>\n",
       "      <th>9</th>\n",
       "      <td>{link} &amp;quot;The right thing to do&amp;quot; I'm f...</td>\n",
       "      <td>Positive</td>\n",
       "      <td>\"Neutral / author is just sharing information\"...</td>\n",
       "    </tr>\n",
       "  </tbody>\n",
       "</table>\n",
       "</div>"
      ],
      "text/plain": [
       "                                          tweet_text  \\\n",
       "0  :Hello Japan is a nuclear power plant crisis. ...   \n",
       "1  . Renewable Energy Consumption Tops Nuclear fo...   \n",
       "2  . Will liberals now seek to eliminate dangerou...   \n",
       "3  (Aug 22,2011)Plant Status of Fukushima Daiichi...   \n",
       "4  [ebook] Nuclear Energy and the Environment: Ox...   \n",
       "5                                                NaN   \n",
       "6  [news] Nuclear Power Plant: Radioactive Tritiu...   \n",
       "7  [science] Nuclear Energy and the Environment: ...   \n",
       "8  {link} :P How many windmills would you need to...   \n",
       "9  {link} &quot;The right thing to do&quot; I'm f...   \n",
       "\n",
       "                                      sentiment  \\\n",
       "0                                      Negative   \n",
       "1  Neutral / author is just sharing information   \n",
       "2  Neutral / author is just sharing information   \n",
       "3  Neutral / author is just sharing information   \n",
       "4  Neutral / author is just sharing information   \n",
       "5  Neutral / author is just sharing information   \n",
       "6  Neutral / author is just sharing information   \n",
       "7  Neutral / author is just sharing information   \n",
       "8  Neutral / author is just sharing information   \n",
       "9                                      Positive   \n",
       "\n",
       "                        sentiment_confidence_summary  \n",
       "0  \"Neutral / author is just sharing information\"...  \n",
       "1  \"Neutral / author is just sharing information\"...  \n",
       "2  \"Neutral / author is just sharing information\"...  \n",
       "3  \"Neutral / author is just sharing information\"...  \n",
       "4  \"Neutral / author is just sharing information\"...  \n",
       "5  \"Neutral / author is just sharing information\"...  \n",
       "6  \"Neutral / author is just sharing information\"...  \n",
       "7  \"Neutral / author is just sharing information\"...  \n",
       "8  \"Neutral / author is just sharing information\"...  \n",
       "9  \"Neutral / author is just sharing information\"...  "
      ]
     },
     "execution_count": 2,
     "metadata": {},
     "output_type": "execute_result"
    }
   ],
   "source": [
    "df = pd.read_csv('test.csv')\n",
    "df.head(10)"
   ]
  },
  {
   "cell_type": "code",
   "execution_count": 3,
   "metadata": {},
   "outputs": [
    {
     "data": {
      "text/plain": [
       "'Linhas: 190 | Colunas: 3'"
      ]
     },
     "execution_count": 3,
     "metadata": {},
     "output_type": "execute_result"
    }
   ],
   "source": [
    "'Linhas: {} | Colunas: {}'.format(df.shape[0], df.shape[1])"
   ]
  },
  {
   "cell_type": "code",
   "execution_count": 4,
   "metadata": {},
   "outputs": [
    {
     "data": {
      "text/html": [
       "<div>\n",
       "<style scoped>\n",
       "    .dataframe tbody tr th:only-of-type {\n",
       "        vertical-align: middle;\n",
       "    }\n",
       "\n",
       "    .dataframe tbody tr th {\n",
       "        vertical-align: top;\n",
       "    }\n",
       "\n",
       "    .dataframe thead th {\n",
       "        text-align: right;\n",
       "    }\n",
       "</style>\n",
       "<table border=\"1\" class=\"dataframe\">\n",
       "  <thead>\n",
       "    <tr style=\"text-align: right;\">\n",
       "      <th></th>\n",
       "      <th>tweet_text</th>\n",
       "      <th>sentiment</th>\n",
       "      <th>sentiment_confidence_summary</th>\n",
       "    </tr>\n",
       "  </thead>\n",
       "  <tbody>\n",
       "    <tr>\n",
       "      <th>0</th>\n",
       "      <td>:Hello Japan is a nuclear power plant crisis. ...</td>\n",
       "      <td>Negative</td>\n",
       "      <td>\"Neutral / author is just sharing information\"...</td>\n",
       "    </tr>\n",
       "    <tr>\n",
       "      <th>1</th>\n",
       "      <td>. Renewable Energy Consumption Tops Nuclear fo...</td>\n",
       "      <td>Neutral / author is just sharing information</td>\n",
       "      <td>\"Neutral / author is just sharing information\"...</td>\n",
       "    </tr>\n",
       "    <tr>\n",
       "      <th>2</th>\n",
       "      <td>. Will liberals now seek to eliminate dangerou...</td>\n",
       "      <td>Neutral / author is just sharing information</td>\n",
       "      <td>\"Neutral / author is just sharing information\"...</td>\n",
       "    </tr>\n",
       "    <tr>\n",
       "      <th>3</th>\n",
       "      <td>(Aug 22,2011)Plant Status of Fukushima Daiichi...</td>\n",
       "      <td>Neutral / author is just sharing information</td>\n",
       "      <td>\"Neutral / author is just sharing information\"...</td>\n",
       "    </tr>\n",
       "    <tr>\n",
       "      <th>4</th>\n",
       "      <td>[ebook] Nuclear Energy and the Environment: Ox...</td>\n",
       "      <td>Neutral / author is just sharing information</td>\n",
       "      <td>\"Neutral / author is just sharing information\"...</td>\n",
       "    </tr>\n",
       "    <tr>\n",
       "      <th>6</th>\n",
       "      <td>[news] Nuclear Power Plant: Radioactive Tritiu...</td>\n",
       "      <td>Neutral / author is just sharing information</td>\n",
       "      <td>\"Neutral / author is just sharing information\"...</td>\n",
       "    </tr>\n",
       "    <tr>\n",
       "      <th>7</th>\n",
       "      <td>[science] Nuclear Energy and the Environment: ...</td>\n",
       "      <td>Neutral / author is just sharing information</td>\n",
       "      <td>\"Neutral / author is just sharing information\"...</td>\n",
       "    </tr>\n",
       "    <tr>\n",
       "      <th>8</th>\n",
       "      <td>{link} :P How many windmills would you need to...</td>\n",
       "      <td>Neutral / author is just sharing information</td>\n",
       "      <td>\"Neutral / author is just sharing information\"...</td>\n",
       "    </tr>\n",
       "    <tr>\n",
       "      <th>9</th>\n",
       "      <td>{link} &amp;quot;The right thing to do&amp;quot; I'm f...</td>\n",
       "      <td>Positive</td>\n",
       "      <td>\"Neutral / author is just sharing information\"...</td>\n",
       "    </tr>\n",
       "    <tr>\n",
       "      <th>10</th>\n",
       "      <td>{link} 6 min Video: Masao Yoshida, of Fukushim...</td>\n",
       "      <td>Neutral / author is just sharing information</td>\n",
       "      <td>\"Neutral / author is just sharing information\"...</td>\n",
       "    </tr>\n",
       "  </tbody>\n",
       "</table>\n",
       "</div>"
      ],
      "text/plain": [
       "                                           tweet_text  \\\n",
       "0   :Hello Japan is a nuclear power plant crisis. ...   \n",
       "1   . Renewable Energy Consumption Tops Nuclear fo...   \n",
       "2   . Will liberals now seek to eliminate dangerou...   \n",
       "3   (Aug 22,2011)Plant Status of Fukushima Daiichi...   \n",
       "4   [ebook] Nuclear Energy and the Environment: Ox...   \n",
       "6   [news] Nuclear Power Plant: Radioactive Tritiu...   \n",
       "7   [science] Nuclear Energy and the Environment: ...   \n",
       "8   {link} :P How many windmills would you need to...   \n",
       "9   {link} &quot;The right thing to do&quot; I'm f...   \n",
       "10  {link} 6 min Video: Masao Yoshida, of Fukushim...   \n",
       "\n",
       "                                       sentiment  \\\n",
       "0                                       Negative   \n",
       "1   Neutral / author is just sharing information   \n",
       "2   Neutral / author is just sharing information   \n",
       "3   Neutral / author is just sharing information   \n",
       "4   Neutral / author is just sharing information   \n",
       "6   Neutral / author is just sharing information   \n",
       "7   Neutral / author is just sharing information   \n",
       "8   Neutral / author is just sharing information   \n",
       "9                                       Positive   \n",
       "10  Neutral / author is just sharing information   \n",
       "\n",
       "                         sentiment_confidence_summary  \n",
       "0   \"Neutral / author is just sharing information\"...  \n",
       "1   \"Neutral / author is just sharing information\"...  \n",
       "2   \"Neutral / author is just sharing information\"...  \n",
       "3   \"Neutral / author is just sharing information\"...  \n",
       "4   \"Neutral / author is just sharing information\"...  \n",
       "6   \"Neutral / author is just sharing information\"...  \n",
       "7   \"Neutral / author is just sharing information\"...  \n",
       "8   \"Neutral / author is just sharing information\"...  \n",
       "9   \"Neutral / author is just sharing information\"...  \n",
       "10  \"Neutral / author is just sharing information\"...  "
      ]
     },
     "execution_count": 4,
     "metadata": {},
     "output_type": "execute_result"
    }
   ],
   "source": [
    "df = df.dropna()\n",
    "df.head(10)"
   ]
  },
  {
   "cell_type": "code",
   "execution_count": 5,
   "metadata": {},
   "outputs": [
    {
     "data": {
      "text/plain": [
       "'Linhas: 189 | Colunas: 3'"
      ]
     },
     "execution_count": 5,
     "metadata": {},
     "output_type": "execute_result"
    }
   ],
   "source": [
    "'Linhas: {} | Colunas: {}'.format(df.shape[0], df.shape[1])"
   ]
  },
  {
   "cell_type": "code",
   "execution_count": 6,
   "metadata": {},
   "outputs": [
    {
     "data": {
      "text/plain": [
       "['tweet_text', 'sentiment', 'sentiment_confidence_summary']"
      ]
     },
     "execution_count": 6,
     "metadata": {},
     "output_type": "execute_result"
    }
   ],
   "source": [
    "list(df)"
   ]
  },
  {
   "cell_type": "code",
   "execution_count": 7,
   "metadata": {},
   "outputs": [],
   "source": [
    "df['sentiment'][df['sentiment'] == 'Positive'] = 1\n",
    "df['sentiment'][df['sentiment'] == 'Negative'] = -1\n",
    "df['sentiment'][df['sentiment'] == 'Neutral / author is just sharing information'] = 0"
   ]
  },
  {
   "cell_type": "code",
   "execution_count": 8,
   "metadata": {},
   "outputs": [
    {
     "data": {
      "text/html": [
       "<div>\n",
       "<style scoped>\n",
       "    .dataframe tbody tr th:only-of-type {\n",
       "        vertical-align: middle;\n",
       "    }\n",
       "\n",
       "    .dataframe tbody tr th {\n",
       "        vertical-align: top;\n",
       "    }\n",
       "\n",
       "    .dataframe thead th {\n",
       "        text-align: right;\n",
       "    }\n",
       "</style>\n",
       "<table border=\"1\" class=\"dataframe\">\n",
       "  <thead>\n",
       "    <tr style=\"text-align: right;\">\n",
       "      <th></th>\n",
       "      <th>tweet_text</th>\n",
       "      <th>sentiment</th>\n",
       "      <th>sentiment_confidence_summary</th>\n",
       "    </tr>\n",
       "  </thead>\n",
       "  <tbody>\n",
       "    <tr>\n",
       "      <th>0</th>\n",
       "      <td>:Hello Japan is a nuclear power plant crisis. ...</td>\n",
       "      <td>-1</td>\n",
       "      <td>\"Neutral / author is just sharing information\"...</td>\n",
       "    </tr>\n",
       "    <tr>\n",
       "      <th>1</th>\n",
       "      <td>. Renewable Energy Consumption Tops Nuclear fo...</td>\n",
       "      <td>0</td>\n",
       "      <td>\"Neutral / author is just sharing information\"...</td>\n",
       "    </tr>\n",
       "    <tr>\n",
       "      <th>2</th>\n",
       "      <td>. Will liberals now seek to eliminate dangerou...</td>\n",
       "      <td>0</td>\n",
       "      <td>\"Neutral / author is just sharing information\"...</td>\n",
       "    </tr>\n",
       "    <tr>\n",
       "      <th>3</th>\n",
       "      <td>(Aug 22,2011)Plant Status of Fukushima Daiichi...</td>\n",
       "      <td>0</td>\n",
       "      <td>\"Neutral / author is just sharing information\"...</td>\n",
       "    </tr>\n",
       "    <tr>\n",
       "      <th>4</th>\n",
       "      <td>[ebook] Nuclear Energy and the Environment: Ox...</td>\n",
       "      <td>0</td>\n",
       "      <td>\"Neutral / author is just sharing information\"...</td>\n",
       "    </tr>\n",
       "    <tr>\n",
       "      <th>6</th>\n",
       "      <td>[news] Nuclear Power Plant: Radioactive Tritiu...</td>\n",
       "      <td>0</td>\n",
       "      <td>\"Neutral / author is just sharing information\"...</td>\n",
       "    </tr>\n",
       "    <tr>\n",
       "      <th>7</th>\n",
       "      <td>[science] Nuclear Energy and the Environment: ...</td>\n",
       "      <td>0</td>\n",
       "      <td>\"Neutral / author is just sharing information\"...</td>\n",
       "    </tr>\n",
       "    <tr>\n",
       "      <th>8</th>\n",
       "      <td>{link} :P How many windmills would you need to...</td>\n",
       "      <td>0</td>\n",
       "      <td>\"Neutral / author is just sharing information\"...</td>\n",
       "    </tr>\n",
       "    <tr>\n",
       "      <th>9</th>\n",
       "      <td>{link} &amp;quot;The right thing to do&amp;quot; I'm f...</td>\n",
       "      <td>1</td>\n",
       "      <td>\"Neutral / author is just sharing information\"...</td>\n",
       "    </tr>\n",
       "    <tr>\n",
       "      <th>10</th>\n",
       "      <td>{link} 6 min Video: Masao Yoshida, of Fukushim...</td>\n",
       "      <td>0</td>\n",
       "      <td>\"Neutral / author is just sharing information\"...</td>\n",
       "    </tr>\n",
       "  </tbody>\n",
       "</table>\n",
       "</div>"
      ],
      "text/plain": [
       "                                           tweet_text sentiment  \\\n",
       "0   :Hello Japan is a nuclear power plant crisis. ...        -1   \n",
       "1   . Renewable Energy Consumption Tops Nuclear fo...         0   \n",
       "2   . Will liberals now seek to eliminate dangerou...         0   \n",
       "3   (Aug 22,2011)Plant Status of Fukushima Daiichi...         0   \n",
       "4   [ebook] Nuclear Energy and the Environment: Ox...         0   \n",
       "6   [news] Nuclear Power Plant: Radioactive Tritiu...         0   \n",
       "7   [science] Nuclear Energy and the Environment: ...         0   \n",
       "8   {link} :P How many windmills would you need to...         0   \n",
       "9   {link} &quot;The right thing to do&quot; I'm f...         1   \n",
       "10  {link} 6 min Video: Masao Yoshida, of Fukushim...         0   \n",
       "\n",
       "                         sentiment_confidence_summary  \n",
       "0   \"Neutral / author is just sharing information\"...  \n",
       "1   \"Neutral / author is just sharing information\"...  \n",
       "2   \"Neutral / author is just sharing information\"...  \n",
       "3   \"Neutral / author is just sharing information\"...  \n",
       "4   \"Neutral / author is just sharing information\"...  \n",
       "6   \"Neutral / author is just sharing information\"...  \n",
       "7   \"Neutral / author is just sharing information\"...  \n",
       "8   \"Neutral / author is just sharing information\"...  \n",
       "9   \"Neutral / author is just sharing information\"...  \n",
       "10  \"Neutral / author is just sharing information\"...  "
      ]
     },
     "execution_count": 8,
     "metadata": {},
     "output_type": "execute_result"
    }
   ],
   "source": [
    "df.head(10)"
   ]
  },
  {
   "cell_type": "code",
   "execution_count": 9,
   "metadata": {},
   "outputs": [],
   "source": [
    "X = df['tweet_text']\n",
    "Y = df['sentiment']\n",
    "\n",
    "X_train, X_test, Y_train, Y_test = train_test_split(X, Y, test_size=.2)"
   ]
  },
  {
   "cell_type": "code",
   "execution_count": 10,
   "metadata": {},
   "outputs": [
    {
     "name": "stdout",
     "output_type": "stream",
     "text": [
      "Loaded dataset with 151 training samples, 38 test samples\n"
     ]
    }
   ],
   "source": [
    "print('Loaded dataset with {} training samples, {} test samples'.format(len(X_train), len(X_test)))"
   ]
  },
  {
   "cell_type": "code",
   "execution_count": 11,
   "metadata": {},
   "outputs": [
    {
     "name": "stdout",
     "output_type": "stream",
     "text": [
      "---review---\n",
      "[news] Nuclear Power Plant: Radioactive Tritium Contamination in Vermont {link} #nwo\n",
      "---label---\n",
      "0\n"
     ]
    }
   ],
   "source": [
    "print('---review---')\n",
    "print(X_train[6])\n",
    "print('---label---')\n",
    "print(Y_train[6])"
   ]
  },
  {
   "cell_type": "code",
   "execution_count": 12,
   "metadata": {
    "scrolled": true
   },
   "outputs": [],
   "source": [
    "def gen_encode_decode(phrase):\n",
    "    bag_words = set(phrase.split())\n",
    "    \n",
    "    dic_encode = dict([*map(lambda t: t[::-1], enumerate(bag_words))])\n",
    "    dic_decode = dict([*map(lambda item: item[::-1], dic_encode.items())])\n",
    "    return dic_encode, dic_decode\n",
    "\n",
    "\n",
    "encode, decode = gen_encode_decode(\" \".join(df['tweet_text'].values.tolist()))"
   ]
  },
  {
   "cell_type": "code",
   "execution_count": 13,
   "metadata": {},
   "outputs": [],
   "source": [
    "import operator"
   ]
  },
  {
   "cell_type": "code",
   "execution_count": 14,
   "metadata": {},
   "outputs": [
    {
     "data": {
      "text/plain": [
       "0        [513, 531, 1296, 38, 438, 402, 1223, 903, 1009]\n",
       "1      [559, 1240, 1324, 199, 586, 1145, 1328, 704, 1...\n",
       "2      [559, 1071, 868, 49, 790, 250, 1294, 126, 438,...\n",
       "3      [889, 915, 1286, 418, 677, 756, 1145, 292, 113...\n",
       "4      [1293, 1145, 1324, 643, 1179, 633, 1353, 94, 1...\n",
       "6      [409, 1145, 292, 537, 1355, 1326, 1001, 1109, ...\n",
       "7      [435, 1145, 1324, 643, 1179, 633, 1353, 94, 10...\n",
       "8      [1009, 10, 621, 854, 1047, 1239, 533, 91, 250,...\n",
       "9      [1009, 310, 735, 166, 250, 771, 105, 1328, 438...\n",
       "10     [1009, 945, 543, 429, 527, 881, 418, 677, 1312...\n",
       "11     [1009, 1149, 131, 1230, 309, 164, 418, 438, 40...\n",
       "12     [1009, 793, 399, 1147, 955, 509, 250, 438, 118...\n",
       "13     [1009, 359, 1055, 110, 157, 418, 1179, 1308, 1...\n",
       "14            [1009, 573, 948, 939, 1145, 292, 599, 311]\n",
       "15     [1009, 573, 948, 939, 1145, 292, 599, 311, 797...\n",
       "16     [1009, 565, 958, 1154, 430, 515, 418, 1086, 43...\n",
       "17     [1009, 983, 250, 952, 476, 245, 926, 1328, 767...\n",
       "18     [1009, 1145, 292, 871, 1063, 642, 1217, 935, 9...\n",
       "19     [1009, 555, 177, 1328, 438, 181, 797, 120, 418...\n",
       "20     [1009, 1248, 116, 1145, 1324, 358, 797, 1324, ...\n",
       "21     [1009, 784, 1132, 491, 974, 488, 1107, 461, 11...\n",
       "22            [1009, 1361, 848, 211, 677, 438, 402, 788]\n",
       "23     [1009, 1200, 533, 682, 1253, 38, 661, 1302, 28...\n",
       "24     [1009, 278, 77, 621, 644, 497, 394, 67, 438, 9...\n",
       "25     [211, 579, 1160, 456, 418, 38, 1343, 1109, 117...\n",
       "26     [211, 39, 698, 1109, 1178, 335, 699, 21, 38, 2...\n",
       "27     [211, 742, 784, 232, 405, 1101, 899, 1031, 489...\n",
       "28     [211, 797, 388, 1296, 247, 680, 1263, 229, 105...\n",
       "29     [880, 211, 872, 934, 748, 1145, 450, 193, 92, ...\n",
       "30     [880, 211, 1148, 11, 1320, 797, 1298, 1261, 43...\n",
       "                             ...                        \n",
       "160    [211, 6, 423, 982, 1109, 1145, 428, 283, 641, ...\n",
       "161    [880, 211, 1236, 1212, 1179, 920, 418, 677, 75...\n",
       "162    [211, 558, 315, 219, 664, 991, 864, 847, 722, ...\n",
       "163    [880, 211, 880, 211, 575, 1265, 418, 1145, 132...\n",
       "164    [880, 211, 880, 211, 1311, 697, 822, 412, 756,...\n",
       "165    [880, 211, 758, 892, 426, 1094, 677, 845, 712,...\n",
       "166    [880, 211, 815, 1109, 1144, 250, 1182, 648, 43...\n",
       "167    [880, 211, 815, 999, 1183, 935, 924, 822, 547,...\n",
       "168    [880, 211, 1248, 696, 379, 504, 438, 181, 794,...\n",
       "169    [880, 211, 1248, 1173, 1145, 1324, 295, 736, 1...\n",
       "170    [880, 211, 934, 748, 1145, 450, 193, 92, 1273,...\n",
       "171    [880, 211, 934, 748, 1145, 973, 807, 849, 866,...\n",
       "172    [880, 211, 1376, 438, 402, 1299, 1384, 601, 12...\n",
       "173    [880, 211, 640, 438, 402, 1223, 1109, 440, 797...\n",
       "174    [880, 211, 9, 127, 32, 880, 211, 879, 607, 127...\n",
       "175    [211, 761, 966, 984, 689, 822, 1179, 14, 978, ...\n",
       "176    [880, 211, 629, 95, 1145, 466, 1296, 1147, 114...\n",
       "177    [211, 1233, 128, 659, 535, 1253, 1031, 71, 612...\n",
       "178    [880, 211, 86, 188, 547, 438, 402, 473, 1164, ...\n",
       "179    [880, 211, 879, 607, 1277, 1212, 677, 1333, 67...\n",
       "180    [211, 83, 396, 1085, 1074, 675, 438, 221, 652,...\n",
       "181    [211, 734, 1239, 1299, 368, 812, 643, 466, 121...\n",
       "182    [880, 211, 784, 1176, 1265, 418, 1115, 1145, 0...\n",
       "183    [880, 211, 784, 45, 947, 22, 1141, 1032, 643, ...\n",
       "184    [211, 784, 366, 666, 964, 333, 1345, 205, 779,...\n",
       "185    [880, 211, 784, 261, 1145, 340, 733, 784, 578,...\n",
       "186    [880, 211, 784, 1069, 1196, 250, 918, 683, 104...\n",
       "187    [880, 211, 784, 326, 872, 5, 1327, 13, 872, 11...\n",
       "188    [880, 211, 710, 355, 1045, 870, 784, 835, 477,...\n",
       "189    [880, 211, 784, 1252, 1062, 795, 1296, 550, 90...\n",
       "Name: tweet_text, Length: 189, dtype: object"
      ]
     },
     "execution_count": 14,
     "metadata": {},
     "output_type": "execute_result"
    }
   ],
   "source": [
    "df['tweet_text'].apply(lambda phrase: [*map(encode.get, phrase.split())])"
   ]
  },
  {
   "cell_type": "code",
   "execution_count": 15,
   "metadata": {},
   "outputs": [
    {
     "ename": "TypeError",
     "evalue": "Failed to convert object of type <class 'tuple'> to Tensor. Contents: (                                            tweet_text sentiment  \\\n0    :Hello Japan is a nuclear power plant crisis. ...        -1   \n1    . Renewable Energy Consumption Tops Nuclear fo...         0   \n2    . Will liberals now seek to eliminate dangerou...         0   \n3    (Aug 22,2011)Plant Status of Fukushima Daiichi...         0   \n4    [ebook] Nuclear Energy and the Environment: Ox...         0   \n6    [news] Nuclear Power Plant: Radioactive Tritiu...         0   \n7    [science] Nuclear Energy and the Environment: ...         0   \n8    {link} :P How many windmills would you need to...         0   \n9    {link} &quot;The right thing to do&quot; I'm f...         1   \n10   {link} 6 min Video: Masao Yoshida, of Fukushim...         0   \n11   {link} 74 percent favor gradual reduction of n...         0   \n12   {link} Coal seen as possible alternative to nu...         0   \n13   {link} Experts are not sure of the economic si...         0   \n14   {link} Five Star廟ｨ Enters Nuclear Power Supply...         0   \n15   {link} Five Star廟ｨ Enters Nuclear Power Supply...         0   \n16   {link} health newspaper articles Complete reje...         0   \n17   {link} India to accord highest safety standard...         0   \n18   {link} Nuclear Power 101 via Arnie Gundersen w...         0   \n19   {link} PM bats for nuclear energy - Times of I...         0   \n20   {link} Saudi Arabia's Nuclear Energy Ambitions...         0   \n21   {link} The 1940 Olympics, decreased rice consu...         0   \n22   {link} What's happening @mention Fukushima nuc...         0   \n23   {link} Would you rather have a few dozen wind ...        -1   \n24   {link} YNN/Marist Poll: How New Yorkers feel a...         0   \n25   @mention Ever hears talk of a place in north M...         0   \n26   @mention No. It's in north west Missouri it's ...         0   \n27   @mention LOL The best bumper sticker I ever sa...         0   \n28   @mention - newamerica9.com is an investment we...         0   \n29   RT @mention : Science Saturday: Nuclear energy...         0   \n30   RT @mention 'Hinkley Point C' - Britain's newe...         0   \n..                                                 ...       ...   \n160  @mention report, 'Laser Advances in Nuclear Fu...         0   \n161  RT @mention Reporting from the grounds of Fuku...         0   \n162  @mention rolling back regulations? Is that bec...         0   \n163  RT @mention RT @mention 66th Carnival of Nucle...         0   \n164  RT @mention RT @mention Progress report on #Fu...         0   \n165  RT @mention RT廟ﾒ@mention Report: Ground Under ...        -1   \n166  RT @mention Russia in talks to build MORE nucl...         0   \n167  RT @mention Russia proposed cooperating w IR o...         0   \n168  RT @mention Saudi Arabia boosts its nuclear en...        -1   \n169  RT @mention Saudi Arabia廟ﾕs Nuclear Energy Amb...         0   \n170  RT @mention Science Saturday: Nuclear energy, ...         0   \n171  RT @mention Science Saturday: Nuclear Energy, ...         0   \n172  RT @mention Should nuclear power be feared? Or...         0   \n173  RT @mention Slovenia's nuclear power plant in ...         0   \n174  RT @mention Smart, important post. RT @mention...         0   \n175  @mention Sounds good. And agreed on the boats....         0   \n176  RT @mention SPOTLIGHT: U.S. Nuclear Safety is ...         0   \n177  @mention still more people than have ever died...        -1   \n178  RT @mention Stop talking,start building nuclea...         0   \n179  RT @mention Studying radioactive sulfur from F...         0   \n180  @mention Tainted food, bribery, issues with nu...         0   \n181  @mention That would be nice. &quot;Health and ...        -1   \n182  RT @mention The 65th Carnival of Pro Nuclear b...         0   \n183  RT @mention The cement engulfed his organs, mu...         0   \n184  @mention The drinking bird was predisposed ven...         0   \n185  RT @mention The First Nuclear Reactor Since Th...         0   \n186  RT @mention The government plans to rent all l...         0   \n187  RT @mention The Hindu : News / National : Nucl...         0   \n188  RT @mention THE NUCLEAR ENERGY OPTION. The fam...         0   \n189  RT @mention The US #nuclear industry is taking...         0   \n\n                          sentiment_confidence_summary  \n0    \"Neutral / author is just sharing information\"...  \n1    \"Neutral / author is just sharing information\"...  \n2    \"Neutral / author is just sharing information\"...  \n3    \"Neutral / author is just sharing information\"...  \n4    \"Neutral / author is just sharing information\"...  \n6    \"Neutral / author is just sharing information\"...  \n7    \"Neutral / author is just sharing information\"...  \n8    \"Neutral / author is just sharing information\"...  \n9    \"Neutral / author is just sharing information\"...  \n10   \"Neutral / author is just sharing information\"...  \n11   \"Neutral / author is just sharing information\"...  \n12   \"Neutral / author is just sharing information\"...  \n13   \"Neutral / author is just sharing information\"...  \n14   \"Neutral / author is just sharing information\"...  \n15   \"Neutral / author is just sharing information\"...  \n16   \"Neutral / author is just sharing information\"...  \n17   \"Neutral / author is just sharing information\"...  \n18   \"Neutral / author is just sharing information\"...  \n19   \"Neutral / author is just sharing information\"...  \n20   \"Neutral / author is just sharing information\"...  \n21   \"Tweet NOT related to nuclear energy\": 0.167\\n...  \n22   \"Neutral / author is just sharing information\"...  \n23   \"I can't tell\": 0.2\\n\"Neutral / author is just...  \n24   \"I can't tell\": 0.2\\n\"Neutral / author is just...  \n25   \"Neutral / author is just sharing information\"...  \n26   \"Neutral / author is just sharing information\"...  \n27   \"Tweet NOT related to nuclear energy\": 0.2\\n\"N...  \n28   \"Neutral / author is just sharing information\"...  \n29   \"I can't tell\": 0.2\\n\"Neutral / author is just...  \n30   \"Neutral / author is just sharing information\"...  \n..                                                 ...  \n160  \"Neutral / author is just sharing information\"...  \n161  \"Neutral / author is just sharing information\"...  \n162  \"Neutral / author is just sharing information\"...  \n163  \"Neutral / author is just sharing information\"...  \n164  \"Neutral / author is just sharing information\"...  \n165  \"Neutral / author is just sharing information\"...  \n166  \"I can't tell\": 0.167\\n\"Neutral / author is ju...  \n167  \"Neutral / author is just sharing information\"...  \n168  \"Neutral / author is just sharing information\"...  \n169  \"Neutral / author is just sharing information\"...  \n170  \"Neutral / author is just sharing information\"...  \n171  \"Neutral / author is just sharing information\"...  \n172  \"Neutral / author is just sharing information\"...  \n173  \"Neutral / author is just sharing information\"...  \n174  \"Neutral / author is just sharing information\"...  \n175  \"Neutral / author is just sharing information\"...  \n176  \"Neutral / author is just sharing information\"...  \n177  \"Neutral / author is just sharing information\"...  \n178  \"Neutral / author is just sharing information\"...  \n179  \"Neutral / author is just sharing information\"...  \n180  \"Neutral / author is just sharing information\"...  \n181  \"I can't tell\": 0.125\\n\"Neutral / author is ju...  \n182  \"Neutral / author is just sharing information\"...  \n183  \"Tweet NOT related to nuclear energy\": 0.2\\n\"N...  \n184  \"I can't tell\": 0.167\\n\"Neutral / author is ju...  \n185  \"Neutral / author is just sharing information\"...  \n186  \"Neutral / author is just sharing information\"...  \n187  \"Neutral / author is just sharing information\"...  \n188  \"Neutral / author is just sharing information\"...  \n189  \"Neutral / author is just sharing information\"...  \n\n[189 rows x 3 columns], 32). Consider casting elements to a supported type.",
     "output_type": "error",
     "traceback": [
      "\u001b[0;31m---------------------------------------------------------------------------\u001b[0m",
      "\u001b[0;31mTypeError\u001b[0m                                 Traceback (most recent call last)",
      "\u001b[0;32m/usr/local/lib/python3.6/dist-packages/tensorflow/python/framework/tensor_util.py\u001b[0m in \u001b[0;36mmake_tensor_proto\u001b[0;34m(values, dtype, shape, verify_shape)\u001b[0m\n\u001b[1;32m    526\u001b[0m     \u001b[0;32mtry\u001b[0m\u001b[0;34m:\u001b[0m\u001b[0;34m\u001b[0m\u001b[0;34m\u001b[0m\u001b[0m\n\u001b[0;32m--> 527\u001b[0;31m       \u001b[0mstr_values\u001b[0m \u001b[0;34m=\u001b[0m \u001b[0;34m[\u001b[0m\u001b[0mcompat\u001b[0m\u001b[0;34m.\u001b[0m\u001b[0mas_bytes\u001b[0m\u001b[0;34m(\u001b[0m\u001b[0mx\u001b[0m\u001b[0;34m)\u001b[0m \u001b[0;32mfor\u001b[0m \u001b[0mx\u001b[0m \u001b[0;32min\u001b[0m \u001b[0mproto_values\u001b[0m\u001b[0;34m]\u001b[0m\u001b[0;34m\u001b[0m\u001b[0;34m\u001b[0m\u001b[0m\n\u001b[0m\u001b[1;32m    528\u001b[0m     \u001b[0;32mexcept\u001b[0m \u001b[0mTypeError\u001b[0m\u001b[0;34m:\u001b[0m\u001b[0;34m\u001b[0m\u001b[0;34m\u001b[0m\u001b[0m\n",
      "\u001b[0;32m/usr/local/lib/python3.6/dist-packages/tensorflow/python/framework/tensor_util.py\u001b[0m in \u001b[0;36m<listcomp>\u001b[0;34m(.0)\u001b[0m\n\u001b[1;32m    526\u001b[0m     \u001b[0;32mtry\u001b[0m\u001b[0;34m:\u001b[0m\u001b[0;34m\u001b[0m\u001b[0;34m\u001b[0m\u001b[0m\n\u001b[0;32m--> 527\u001b[0;31m       \u001b[0mstr_values\u001b[0m \u001b[0;34m=\u001b[0m \u001b[0;34m[\u001b[0m\u001b[0mcompat\u001b[0m\u001b[0;34m.\u001b[0m\u001b[0mas_bytes\u001b[0m\u001b[0;34m(\u001b[0m\u001b[0mx\u001b[0m\u001b[0;34m)\u001b[0m \u001b[0;32mfor\u001b[0m \u001b[0mx\u001b[0m \u001b[0;32min\u001b[0m \u001b[0mproto_values\u001b[0m\u001b[0;34m]\u001b[0m\u001b[0;34m\u001b[0m\u001b[0;34m\u001b[0m\u001b[0m\n\u001b[0m\u001b[1;32m    528\u001b[0m     \u001b[0;32mexcept\u001b[0m \u001b[0mTypeError\u001b[0m\u001b[0;34m:\u001b[0m\u001b[0;34m\u001b[0m\u001b[0;34m\u001b[0m\u001b[0m\n",
      "\u001b[0;32m/usr/local/lib/python3.6/dist-packages/tensorflow/python/util/compat.py\u001b[0m in \u001b[0;36mas_bytes\u001b[0;34m(bytes_or_text, encoding)\u001b[0m\n\u001b[1;32m     60\u001b[0m     raise TypeError('Expected binary or unicode string, got %r' %\n\u001b[0;32m---> 61\u001b[0;31m                     (bytes_or_text,))\n\u001b[0m\u001b[1;32m     62\u001b[0m \u001b[0;34m\u001b[0m\u001b[0m\n",
      "\u001b[0;31mTypeError\u001b[0m: Expected binary or unicode string, got                                             tweet_text sentiment  \\\n0    :Hello Japan is a nuclear power plant crisis. ...        -1   \n1    . Renewable Energy Consumption Tops Nuclear fo...         0   \n2    . Will liberals now seek to eliminate dangerou...         0   \n3    (Aug 22,2011)Plant Status of Fukushima Daiichi...         0   \n4    [ebook] Nuclear Energy and the Environment: Ox...         0   \n6    [news] Nuclear Power Plant: Radioactive Tritiu...         0   \n7    [science] Nuclear Energy and the Environment: ...         0   \n8    {link} :P How many windmills would you need to...         0   \n9    {link} &quot;The right thing to do&quot; I'm f...         1   \n10   {link} 6 min Video: Masao Yoshida, of Fukushim...         0   \n11   {link} 74 percent favor gradual reduction of n...         0   \n12   {link} Coal seen as possible alternative to nu...         0   \n13   {link} Experts are not sure of the economic si...         0   \n14   {link} Five Star廟ｨ Enters Nuclear Power Supply...         0   \n15   {link} Five Star廟ｨ Enters Nuclear Power Supply...         0   \n16   {link} health newspaper articles Complete reje...         0   \n17   {link} India to accord highest safety standard...         0   \n18   {link} Nuclear Power 101 via Arnie Gundersen w...         0   \n19   {link} PM bats for nuclear energy - Times of I...         0   \n20   {link} Saudi Arabia's Nuclear Energy Ambitions...         0   \n21   {link} The 1940 Olympics, decreased rice consu...         0   \n22   {link} What's happening @mention Fukushima nuc...         0   \n23   {link} Would you rather have a few dozen wind ...        -1   \n24   {link} YNN/Marist Poll: How New Yorkers feel a...         0   \n25   @mention Ever hears talk of a place in north M...         0   \n26   @mention No. It's in north west Missouri it's ...         0   \n27   @mention LOL The best bumper sticker I ever sa...         0   \n28   @mention - newamerica9.com is an investment we...         0   \n29   RT @mention : Science Saturday: Nuclear energy...         0   \n30   RT @mention 'Hinkley Point C' - Britain's newe...         0   \n..                                                 ...       ...   \n160  @mention report, 'Laser Advances in Nuclear Fu...         0   \n161  RT @mention Reporting from the grounds of Fuku...         0   \n162  @mention rolling back regulations? Is that bec...         0   \n163  RT @mention RT @mention 66th Carnival of Nucle...         0   \n164  RT @mention RT @mention Progress report on #Fu...         0   \n165  RT @mention RT廟ﾒ@mention Report: Ground Under ...        -1   \n166  RT @mention Russia in talks to build MORE nucl...         0   \n167  RT @mention Russia proposed cooperating w IR o...         0   \n168  RT @mention Saudi Arabia boosts its nuclear en...        -1   \n169  RT @mention Saudi Arabia廟ﾕs Nuclear Energy Amb...         0   \n170  RT @mention Science Saturday: Nuclear energy, ...         0   \n171  RT @mention Science Saturday: Nuclear Energy, ...         0   \n172  RT @mention Should nuclear power be feared? Or...         0   \n173  RT @mention Slovenia's nuclear power plant in ...         0   \n174  RT @mention Smart, important post. RT @mention...         0   \n175  @mention Sounds good. And agreed on the boats....         0   \n176  RT @mention SPOTLIGHT: U.S. Nuclear Safety is ...         0   \n177  @mention still more people than have ever died...        -1   \n178  RT @mention Stop talking,start building nuclea...         0   \n179  RT @mention Studying radioactive sulfur from F...         0   \n180  @mention Tainted food, bribery, issues with nu...         0   \n181  @mention That would be nice. &quot;Health and ...        -1   \n182  RT @mention The 65th Carnival of Pro Nuclear b...         0   \n183  RT @mention The cement engulfed his organs, mu...         0   \n184  @mention The drinking bird was predisposed ven...         0   \n185  RT @mention The First Nuclear Reactor Since Th...         0   \n186  RT @mention The government plans to rent all l...         0   \n187  RT @mention The Hindu : News / National : Nucl...         0   \n188  RT @mention THE NUCLEAR ENERGY OPTION. The fam...         0   \n189  RT @mention The US #nuclear industry is taking...         0   \n\n                          sentiment_confidence_summary  \n0    \"Neutral / author is just sharing information\"...  \n1    \"Neutral / author is just sharing information\"...  \n2    \"Neutral / author is just sharing information\"...  \n3    \"Neutral / author is just sharing information\"...  \n4    \"Neutral / author is just sharing information\"...  \n6    \"Neutral / author is just sharing information\"...  \n7    \"Neutral / author is just sharing information\"...  \n8    \"Neutral / author is just sharing information\"...  \n9    \"Neutral / author is just sharing information\"...  \n10   \"Neutral / author is just sharing information\"...  \n11   \"Neutral / author is just sharing information\"...  \n12   \"Neutral / author is just sharing information\"...  \n13   \"Neutral / author is just sharing information\"...  \n14   \"Neutral / author is just sharing information\"...  \n15   \"Neutral / author is just sharing information\"...  \n16   \"Neutral / author is just sharing information\"...  \n17   \"Neutral / author is just sharing information\"...  \n18   \"Neutral / author is just sharing information\"...  \n19   \"Neutral / author is just sharing information\"...  \n20   \"Neutral / author is just sharing information\"...  \n21   \"Tweet NOT related to nuclear energy\": 0.167\\n...  \n22   \"Neutral / author is just sharing information\"...  \n23   \"I can't tell\": 0.2\\n\"Neutral / author is just...  \n24   \"I can't tell\": 0.2\\n\"Neutral / author is just...  \n25   \"Neutral / author is just sharing information\"...  \n26   \"Neutral / author is just sharing information\"...  \n27   \"Tweet NOT related to nuclear energy\": 0.2\\n\"N...  \n28   \"Neutral / author is just sharing information\"...  \n29   \"I can't tell\": 0.2\\n\"Neutral / author is just...  \n30   \"Neutral / author is just sharing information\"...  \n..                                                 ...  \n160  \"Neutral / author is just sharing information\"...  \n161  \"Neutral / author is just sharing information\"...  \n162  \"Neutral / author is just sharing information\"...  \n163  \"Neutral / author is just sharing information\"...  \n164  \"Neutral / author is just sharing information\"...  \n165  \"Neutral / author is just sharing information\"...  \n166  \"I can't tell\": 0.167\\n\"Neutral / author is ju...  \n167  \"Neutral / author is just sharing information\"...  \n168  \"Neutral / author is just sharing information\"...  \n169  \"Neutral / author is just sharing information\"...  \n170  \"Neutral / author is just sharing information\"...  \n171  \"Neutral / author is just sharing information\"...  \n172  \"Neutral / author is just sharing information\"...  \n173  \"Neutral / author is just sharing information\"...  \n174  \"Neutral / author is just sharing information\"...  \n175  \"Neutral / author is just sharing information\"...  \n176  \"Neutral / author is just sharing information\"...  \n177  \"Neutral / author is just sharing information\"...  \n178  \"Neutral / author is just sharing information\"...  \n179  \"Neutral / author is just sharing information\"...  \n180  \"Neutral / author is just sharing information\"...  \n181  \"I can't tell\": 0.125\\n\"Neutral / author is ju...  \n182  \"Neutral / author is just sharing information\"...  \n183  \"Tweet NOT related to nuclear energy\": 0.2\\n\"N...  \n184  \"I can't tell\": 0.167\\n\"Neutral / author is ju...  \n185  \"Neutral / author is just sharing information\"...  \n186  \"Neutral / author is just sharing information\"...  \n187  \"Neutral / author is just sharing information\"...  \n188  \"Neutral / author is just sharing information\"...  \n189  \"Neutral / author is just sharing information\"...  \n\n[189 rows x 3 columns]",
      "\nDuring handling of the above exception, another exception occurred:\n",
      "\u001b[0;31mTypeError\u001b[0m                                 Traceback (most recent call last)",
      "\u001b[0;32m<ipython-input-15-aaa33252daff>\u001b[0m in \u001b[0;36m<module>\u001b[0;34m\u001b[0m\n\u001b[1;32m      1\u001b[0m \u001b[0membedding_size\u001b[0m\u001b[0;34m=\u001b[0m\u001b[0;36m32\u001b[0m\u001b[0;34m\u001b[0m\u001b[0;34m\u001b[0m\u001b[0m\n\u001b[1;32m      2\u001b[0m \u001b[0mmodel\u001b[0m\u001b[0;34m=\u001b[0m\u001b[0mSequential\u001b[0m\u001b[0;34m(\u001b[0m\u001b[0;34m)\u001b[0m\u001b[0;34m\u001b[0m\u001b[0;34m\u001b[0m\u001b[0m\n\u001b[0;32m----> 3\u001b[0;31m \u001b[0mmodel\u001b[0m\u001b[0;34m.\u001b[0m\u001b[0madd\u001b[0m\u001b[0;34m(\u001b[0m\u001b[0mEmbedding\u001b[0m\u001b[0;34m(\u001b[0m\u001b[0mdf\u001b[0m\u001b[0;34m,\u001b[0m \u001b[0membedding_size\u001b[0m\u001b[0;34m,\u001b[0m \u001b[0minput_length\u001b[0m\u001b[0;34m=\u001b[0m\u001b[0;36m500\u001b[0m\u001b[0;34m)\u001b[0m\u001b[0;34m)\u001b[0m\u001b[0;34m\u001b[0m\u001b[0;34m\u001b[0m\u001b[0m\n\u001b[0m\u001b[1;32m      4\u001b[0m \u001b[0mmodel\u001b[0m\u001b[0;34m.\u001b[0m\u001b[0madd\u001b[0m\u001b[0;34m(\u001b[0m\u001b[0mLSTM\u001b[0m\u001b[0;34m(\u001b[0m\u001b[0;36m100\u001b[0m\u001b[0;34m)\u001b[0m\u001b[0;34m)\u001b[0m\u001b[0;34m\u001b[0m\u001b[0;34m\u001b[0m\u001b[0m\n\u001b[1;32m      5\u001b[0m \u001b[0mmodel\u001b[0m\u001b[0;34m.\u001b[0m\u001b[0madd\u001b[0m\u001b[0;34m(\u001b[0m\u001b[0mDense\u001b[0m\u001b[0;34m(\u001b[0m\u001b[0;36m1\u001b[0m\u001b[0;34m,\u001b[0m \u001b[0mactivation\u001b[0m\u001b[0;34m=\u001b[0m\u001b[0;34m'sigmoid'\u001b[0m\u001b[0;34m)\u001b[0m\u001b[0;34m)\u001b[0m\u001b[0;34m\u001b[0m\u001b[0;34m\u001b[0m\u001b[0m\n",
      "\u001b[0;32m/usr/local/lib/python3.6/dist-packages/keras/engine/sequential.py\u001b[0m in \u001b[0;36madd\u001b[0;34m(self, layer)\u001b[0m\n\u001b[1;32m    163\u001b[0m                     \u001b[0;31m# and create the node connecting the current layer\u001b[0m\u001b[0;34m\u001b[0m\u001b[0;34m\u001b[0m\u001b[0;34m\u001b[0m\u001b[0m\n\u001b[1;32m    164\u001b[0m                     \u001b[0;31m# to the input layer we just created.\u001b[0m\u001b[0;34m\u001b[0m\u001b[0;34m\u001b[0m\u001b[0;34m\u001b[0m\u001b[0m\n\u001b[0;32m--> 165\u001b[0;31m                     \u001b[0mlayer\u001b[0m\u001b[0;34m(\u001b[0m\u001b[0mx\u001b[0m\u001b[0;34m)\u001b[0m\u001b[0;34m\u001b[0m\u001b[0;34m\u001b[0m\u001b[0m\n\u001b[0m\u001b[1;32m    166\u001b[0m                     \u001b[0mset_inputs\u001b[0m \u001b[0;34m=\u001b[0m \u001b[0;32mTrue\u001b[0m\u001b[0;34m\u001b[0m\u001b[0;34m\u001b[0m\u001b[0m\n\u001b[1;32m    167\u001b[0m             \u001b[0;32melse\u001b[0m\u001b[0;34m:\u001b[0m\u001b[0;34m\u001b[0m\u001b[0;34m\u001b[0m\u001b[0m\n",
      "\u001b[0;32m/usr/local/lib/python3.6/dist-packages/keras/engine/base_layer.py\u001b[0m in \u001b[0;36m__call__\u001b[0;34m(self, inputs, **kwargs)\u001b[0m\n\u001b[1;32m    429\u001b[0m                                          \u001b[0;34m'You can build it manually via: '\u001b[0m\u001b[0;34m\u001b[0m\u001b[0;34m\u001b[0m\u001b[0m\n\u001b[1;32m    430\u001b[0m                                          '`layer.build(batch_input_shape)`')\n\u001b[0;32m--> 431\u001b[0;31m                 \u001b[0mself\u001b[0m\u001b[0;34m.\u001b[0m\u001b[0mbuild\u001b[0m\u001b[0;34m(\u001b[0m\u001b[0munpack_singleton\u001b[0m\u001b[0;34m(\u001b[0m\u001b[0minput_shapes\u001b[0m\u001b[0;34m)\u001b[0m\u001b[0;34m)\u001b[0m\u001b[0;34m\u001b[0m\u001b[0;34m\u001b[0m\u001b[0m\n\u001b[0m\u001b[1;32m    432\u001b[0m                 \u001b[0mself\u001b[0m\u001b[0;34m.\u001b[0m\u001b[0mbuilt\u001b[0m \u001b[0;34m=\u001b[0m \u001b[0;32mTrue\u001b[0m\u001b[0;34m\u001b[0m\u001b[0;34m\u001b[0m\u001b[0m\n\u001b[1;32m    433\u001b[0m \u001b[0;34m\u001b[0m\u001b[0m\n",
      "\u001b[0;32m/usr/local/lib/python3.6/dist-packages/keras/layers/embeddings.py\u001b[0m in \u001b[0;36mbuild\u001b[0;34m(self, input_shape)\u001b[0m\n\u001b[1;32m    107\u001b[0m             \u001b[0mregularizer\u001b[0m\u001b[0;34m=\u001b[0m\u001b[0mself\u001b[0m\u001b[0;34m.\u001b[0m\u001b[0membeddings_regularizer\u001b[0m\u001b[0;34m,\u001b[0m\u001b[0;34m\u001b[0m\u001b[0;34m\u001b[0m\u001b[0m\n\u001b[1;32m    108\u001b[0m             \u001b[0mconstraint\u001b[0m\u001b[0;34m=\u001b[0m\u001b[0mself\u001b[0m\u001b[0;34m.\u001b[0m\u001b[0membeddings_constraint\u001b[0m\u001b[0;34m,\u001b[0m\u001b[0;34m\u001b[0m\u001b[0;34m\u001b[0m\u001b[0m\n\u001b[0;32m--> 109\u001b[0;31m             dtype=self.dtype)\n\u001b[0m\u001b[1;32m    110\u001b[0m         \u001b[0mself\u001b[0m\u001b[0;34m.\u001b[0m\u001b[0mbuilt\u001b[0m \u001b[0;34m=\u001b[0m \u001b[0;32mTrue\u001b[0m\u001b[0;34m\u001b[0m\u001b[0;34m\u001b[0m\u001b[0m\n\u001b[1;32m    111\u001b[0m \u001b[0;34m\u001b[0m\u001b[0m\n",
      "\u001b[0;32m/usr/local/lib/python3.6/dist-packages/keras/legacy/interfaces.py\u001b[0m in \u001b[0;36mwrapper\u001b[0;34m(*args, **kwargs)\u001b[0m\n\u001b[1;32m     89\u001b[0m                 warnings.warn('Update your `' + object_name + '` call to the ' +\n\u001b[1;32m     90\u001b[0m                               'Keras 2 API: ' + signature, stacklevel=2)\n\u001b[0;32m---> 91\u001b[0;31m             \u001b[0;32mreturn\u001b[0m \u001b[0mfunc\u001b[0m\u001b[0;34m(\u001b[0m\u001b[0;34m*\u001b[0m\u001b[0margs\u001b[0m\u001b[0;34m,\u001b[0m \u001b[0;34m**\u001b[0m\u001b[0mkwargs\u001b[0m\u001b[0;34m)\u001b[0m\u001b[0;34m\u001b[0m\u001b[0;34m\u001b[0m\u001b[0m\n\u001b[0m\u001b[1;32m     92\u001b[0m         \u001b[0mwrapper\u001b[0m\u001b[0;34m.\u001b[0m\u001b[0m_original_function\u001b[0m \u001b[0;34m=\u001b[0m \u001b[0mfunc\u001b[0m\u001b[0;34m\u001b[0m\u001b[0;34m\u001b[0m\u001b[0m\n\u001b[1;32m     93\u001b[0m         \u001b[0;32mreturn\u001b[0m \u001b[0mwrapper\u001b[0m\u001b[0;34m\u001b[0m\u001b[0;34m\u001b[0m\u001b[0m\n",
      "\u001b[0;32m/usr/local/lib/python3.6/dist-packages/keras/engine/base_layer.py\u001b[0m in \u001b[0;36madd_weight\u001b[0;34m(self, name, shape, dtype, initializer, regularizer, trainable, constraint)\u001b[0m\n\u001b[1;32m    247\u001b[0m         \u001b[0;32mif\u001b[0m \u001b[0mdtype\u001b[0m \u001b[0;32mis\u001b[0m \u001b[0;32mNone\u001b[0m\u001b[0;34m:\u001b[0m\u001b[0;34m\u001b[0m\u001b[0;34m\u001b[0m\u001b[0m\n\u001b[1;32m    248\u001b[0m             \u001b[0mdtype\u001b[0m \u001b[0;34m=\u001b[0m \u001b[0mK\u001b[0m\u001b[0;34m.\u001b[0m\u001b[0mfloatx\u001b[0m\u001b[0;34m(\u001b[0m\u001b[0;34m)\u001b[0m\u001b[0;34m\u001b[0m\u001b[0;34m\u001b[0m\u001b[0m\n\u001b[0;32m--> 249\u001b[0;31m         weight = K.variable(initializer(shape),\n\u001b[0m\u001b[1;32m    250\u001b[0m                             \u001b[0mdtype\u001b[0m\u001b[0;34m=\u001b[0m\u001b[0mdtype\u001b[0m\u001b[0;34m,\u001b[0m\u001b[0;34m\u001b[0m\u001b[0;34m\u001b[0m\u001b[0m\n\u001b[1;32m    251\u001b[0m                             \u001b[0mname\u001b[0m\u001b[0;34m=\u001b[0m\u001b[0mname\u001b[0m\u001b[0;34m,\u001b[0m\u001b[0;34m\u001b[0m\u001b[0;34m\u001b[0m\u001b[0m\n",
      "\u001b[0;32m/usr/local/lib/python3.6/dist-packages/keras/initializers.py\u001b[0m in \u001b[0;36m__call__\u001b[0;34m(self, shape, dtype)\u001b[0m\n\u001b[1;32m    110\u001b[0m     \u001b[0;32mdef\u001b[0m \u001b[0m__call__\u001b[0m\u001b[0;34m(\u001b[0m\u001b[0mself\u001b[0m\u001b[0;34m,\u001b[0m \u001b[0mshape\u001b[0m\u001b[0;34m,\u001b[0m \u001b[0mdtype\u001b[0m\u001b[0;34m=\u001b[0m\u001b[0;32mNone\u001b[0m\u001b[0;34m)\u001b[0m\u001b[0;34m:\u001b[0m\u001b[0;34m\u001b[0m\u001b[0;34m\u001b[0m\u001b[0m\n\u001b[1;32m    111\u001b[0m         return K.random_uniform(shape, self.minval, self.maxval,\n\u001b[0;32m--> 112\u001b[0;31m                                 dtype=dtype, seed=self.seed)\n\u001b[0m\u001b[1;32m    113\u001b[0m \u001b[0;34m\u001b[0m\u001b[0m\n\u001b[1;32m    114\u001b[0m     \u001b[0;32mdef\u001b[0m \u001b[0mget_config\u001b[0m\u001b[0;34m(\u001b[0m\u001b[0mself\u001b[0m\u001b[0;34m)\u001b[0m\u001b[0;34m:\u001b[0m\u001b[0;34m\u001b[0m\u001b[0;34m\u001b[0m\u001b[0m\n",
      "\u001b[0;32m/usr/local/lib/python3.6/dist-packages/keras/backend/tensorflow_backend.py\u001b[0m in \u001b[0;36mrandom_uniform\u001b[0;34m(shape, minval, maxval, dtype, seed)\u001b[0m\n\u001b[1;32m   4137\u001b[0m         \u001b[0mseed\u001b[0m \u001b[0;34m=\u001b[0m \u001b[0mnp\u001b[0m\u001b[0;34m.\u001b[0m\u001b[0mrandom\u001b[0m\u001b[0;34m.\u001b[0m\u001b[0mrandint\u001b[0m\u001b[0;34m(\u001b[0m\u001b[0;36m10e6\u001b[0m\u001b[0;34m)\u001b[0m\u001b[0;34m\u001b[0m\u001b[0;34m\u001b[0m\u001b[0m\n\u001b[1;32m   4138\u001b[0m     return tf.random_uniform(shape, minval=minval, maxval=maxval,\n\u001b[0;32m-> 4139\u001b[0;31m                              dtype=dtype, seed=seed)\n\u001b[0m\u001b[1;32m   4140\u001b[0m \u001b[0;34m\u001b[0m\u001b[0m\n\u001b[1;32m   4141\u001b[0m \u001b[0;34m\u001b[0m\u001b[0m\n",
      "\u001b[0;32m/usr/local/lib/python3.6/dist-packages/tensorflow/python/ops/random_ops.py\u001b[0m in \u001b[0;36mrandom_uniform\u001b[0;34m(shape, minval, maxval, dtype, seed, name)\u001b[0m\n\u001b[1;32m    233\u001b[0m     \u001b[0mmaxval\u001b[0m \u001b[0;34m=\u001b[0m \u001b[0;36m1\u001b[0m\u001b[0;34m\u001b[0m\u001b[0;34m\u001b[0m\u001b[0m\n\u001b[1;32m    234\u001b[0m   \u001b[0;32mwith\u001b[0m \u001b[0mops\u001b[0m\u001b[0;34m.\u001b[0m\u001b[0mname_scope\u001b[0m\u001b[0;34m(\u001b[0m\u001b[0mname\u001b[0m\u001b[0;34m,\u001b[0m \u001b[0;34m\"random_uniform\"\u001b[0m\u001b[0;34m,\u001b[0m \u001b[0;34m[\u001b[0m\u001b[0mshape\u001b[0m\u001b[0;34m,\u001b[0m \u001b[0mminval\u001b[0m\u001b[0;34m,\u001b[0m \u001b[0mmaxval\u001b[0m\u001b[0;34m]\u001b[0m\u001b[0;34m)\u001b[0m \u001b[0;32mas\u001b[0m \u001b[0mname\u001b[0m\u001b[0;34m:\u001b[0m\u001b[0;34m\u001b[0m\u001b[0;34m\u001b[0m\u001b[0m\n\u001b[0;32m--> 235\u001b[0;31m     \u001b[0mshape\u001b[0m \u001b[0;34m=\u001b[0m \u001b[0m_ShapeTensor\u001b[0m\u001b[0;34m(\u001b[0m\u001b[0mshape\u001b[0m\u001b[0;34m)\u001b[0m\u001b[0;34m\u001b[0m\u001b[0;34m\u001b[0m\u001b[0m\n\u001b[0m\u001b[1;32m    236\u001b[0m     \u001b[0mminval\u001b[0m \u001b[0;34m=\u001b[0m \u001b[0mops\u001b[0m\u001b[0;34m.\u001b[0m\u001b[0mconvert_to_tensor\u001b[0m\u001b[0;34m(\u001b[0m\u001b[0mminval\u001b[0m\u001b[0;34m,\u001b[0m \u001b[0mdtype\u001b[0m\u001b[0;34m=\u001b[0m\u001b[0mdtype\u001b[0m\u001b[0;34m,\u001b[0m \u001b[0mname\u001b[0m\u001b[0;34m=\u001b[0m\u001b[0;34m\"min\"\u001b[0m\u001b[0;34m)\u001b[0m\u001b[0;34m\u001b[0m\u001b[0;34m\u001b[0m\u001b[0m\n\u001b[1;32m    237\u001b[0m     \u001b[0mmaxval\u001b[0m \u001b[0;34m=\u001b[0m \u001b[0mops\u001b[0m\u001b[0;34m.\u001b[0m\u001b[0mconvert_to_tensor\u001b[0m\u001b[0;34m(\u001b[0m\u001b[0mmaxval\u001b[0m\u001b[0;34m,\u001b[0m \u001b[0mdtype\u001b[0m\u001b[0;34m=\u001b[0m\u001b[0mdtype\u001b[0m\u001b[0;34m,\u001b[0m \u001b[0mname\u001b[0m\u001b[0;34m=\u001b[0m\u001b[0;34m\"max\"\u001b[0m\u001b[0;34m)\u001b[0m\u001b[0;34m\u001b[0m\u001b[0;34m\u001b[0m\u001b[0m\n",
      "\u001b[0;32m/usr/local/lib/python3.6/dist-packages/tensorflow/python/ops/random_ops.py\u001b[0m in \u001b[0;36m_ShapeTensor\u001b[0;34m(shape)\u001b[0m\n\u001b[1;32m     42\u001b[0m   \u001b[0;32melse\u001b[0m\u001b[0;34m:\u001b[0m\u001b[0;34m\u001b[0m\u001b[0;34m\u001b[0m\u001b[0m\n\u001b[1;32m     43\u001b[0m     \u001b[0mdtype\u001b[0m \u001b[0;34m=\u001b[0m \u001b[0;32mNone\u001b[0m\u001b[0;34m\u001b[0m\u001b[0;34m\u001b[0m\u001b[0m\n\u001b[0;32m---> 44\u001b[0;31m   \u001b[0;32mreturn\u001b[0m \u001b[0mops\u001b[0m\u001b[0;34m.\u001b[0m\u001b[0mconvert_to_tensor\u001b[0m\u001b[0;34m(\u001b[0m\u001b[0mshape\u001b[0m\u001b[0;34m,\u001b[0m \u001b[0mdtype\u001b[0m\u001b[0;34m=\u001b[0m\u001b[0mdtype\u001b[0m\u001b[0;34m,\u001b[0m \u001b[0mname\u001b[0m\u001b[0;34m=\u001b[0m\u001b[0;34m\"shape\"\u001b[0m\u001b[0;34m)\u001b[0m\u001b[0;34m\u001b[0m\u001b[0;34m\u001b[0m\u001b[0m\n\u001b[0m\u001b[1;32m     45\u001b[0m \u001b[0;34m\u001b[0m\u001b[0m\n\u001b[1;32m     46\u001b[0m \u001b[0;34m\u001b[0m\u001b[0m\n",
      "\u001b[0;32m/usr/local/lib/python3.6/dist-packages/tensorflow/python/framework/ops.py\u001b[0m in \u001b[0;36mconvert_to_tensor\u001b[0;34m(value, dtype, name, preferred_dtype)\u001b[0m\n\u001b[1;32m   1048\u001b[0m       \u001b[0mname\u001b[0m\u001b[0;34m=\u001b[0m\u001b[0mname\u001b[0m\u001b[0;34m,\u001b[0m\u001b[0;34m\u001b[0m\u001b[0;34m\u001b[0m\u001b[0m\n\u001b[1;32m   1049\u001b[0m       \u001b[0mpreferred_dtype\u001b[0m\u001b[0;34m=\u001b[0m\u001b[0mpreferred_dtype\u001b[0m\u001b[0;34m,\u001b[0m\u001b[0;34m\u001b[0m\u001b[0;34m\u001b[0m\u001b[0m\n\u001b[0;32m-> 1050\u001b[0;31m       as_ref=False)\n\u001b[0m\u001b[1;32m   1051\u001b[0m \u001b[0;34m\u001b[0m\u001b[0m\n\u001b[1;32m   1052\u001b[0m \u001b[0;34m\u001b[0m\u001b[0m\n",
      "\u001b[0;32m/usr/local/lib/python3.6/dist-packages/tensorflow/python/framework/ops.py\u001b[0m in \u001b[0;36minternal_convert_to_tensor\u001b[0;34m(value, dtype, name, as_ref, preferred_dtype, ctx)\u001b[0m\n\u001b[1;32m   1144\u001b[0m \u001b[0;34m\u001b[0m\u001b[0m\n\u001b[1;32m   1145\u001b[0m     \u001b[0;32mif\u001b[0m \u001b[0mret\u001b[0m \u001b[0;32mis\u001b[0m \u001b[0;32mNone\u001b[0m\u001b[0;34m:\u001b[0m\u001b[0;34m\u001b[0m\u001b[0;34m\u001b[0m\u001b[0m\n\u001b[0;32m-> 1146\u001b[0;31m       \u001b[0mret\u001b[0m \u001b[0;34m=\u001b[0m \u001b[0mconversion_func\u001b[0m\u001b[0;34m(\u001b[0m\u001b[0mvalue\u001b[0m\u001b[0;34m,\u001b[0m \u001b[0mdtype\u001b[0m\u001b[0;34m=\u001b[0m\u001b[0mdtype\u001b[0m\u001b[0;34m,\u001b[0m \u001b[0mname\u001b[0m\u001b[0;34m=\u001b[0m\u001b[0mname\u001b[0m\u001b[0;34m,\u001b[0m \u001b[0mas_ref\u001b[0m\u001b[0;34m=\u001b[0m\u001b[0mas_ref\u001b[0m\u001b[0;34m)\u001b[0m\u001b[0;34m\u001b[0m\u001b[0;34m\u001b[0m\u001b[0m\n\u001b[0m\u001b[1;32m   1147\u001b[0m \u001b[0;34m\u001b[0m\u001b[0m\n\u001b[1;32m   1148\u001b[0m     \u001b[0;32mif\u001b[0m \u001b[0mret\u001b[0m \u001b[0;32mis\u001b[0m \u001b[0mNotImplemented\u001b[0m\u001b[0;34m:\u001b[0m\u001b[0;34m\u001b[0m\u001b[0;34m\u001b[0m\u001b[0m\n",
      "\u001b[0;32m/usr/local/lib/python3.6/dist-packages/tensorflow/python/framework/constant_op.py\u001b[0m in \u001b[0;36m_constant_tensor_conversion_function\u001b[0;34m(v, dtype, name, as_ref)\u001b[0m\n\u001b[1;32m    227\u001b[0m                                          as_ref=False):\n\u001b[1;32m    228\u001b[0m   \u001b[0m_\u001b[0m \u001b[0;34m=\u001b[0m \u001b[0mas_ref\u001b[0m\u001b[0;34m\u001b[0m\u001b[0;34m\u001b[0m\u001b[0m\n\u001b[0;32m--> 229\u001b[0;31m   \u001b[0;32mreturn\u001b[0m \u001b[0mconstant\u001b[0m\u001b[0;34m(\u001b[0m\u001b[0mv\u001b[0m\u001b[0;34m,\u001b[0m \u001b[0mdtype\u001b[0m\u001b[0;34m=\u001b[0m\u001b[0mdtype\u001b[0m\u001b[0;34m,\u001b[0m \u001b[0mname\u001b[0m\u001b[0;34m=\u001b[0m\u001b[0mname\u001b[0m\u001b[0;34m)\u001b[0m\u001b[0;34m\u001b[0m\u001b[0;34m\u001b[0m\u001b[0m\n\u001b[0m\u001b[1;32m    230\u001b[0m \u001b[0;34m\u001b[0m\u001b[0m\n\u001b[1;32m    231\u001b[0m \u001b[0;34m\u001b[0m\u001b[0m\n",
      "\u001b[0;32m/usr/local/lib/python3.6/dist-packages/tensorflow/python/framework/constant_op.py\u001b[0m in \u001b[0;36mconstant\u001b[0;34m(value, dtype, shape, name, verify_shape)\u001b[0m\n\u001b[1;32m    206\u001b[0m   tensor_value.tensor.CopyFrom(\n\u001b[1;32m    207\u001b[0m       tensor_util.make_tensor_proto(\n\u001b[0;32m--> 208\u001b[0;31m           value, dtype=dtype, shape=shape, verify_shape=verify_shape))\n\u001b[0m\u001b[1;32m    209\u001b[0m   \u001b[0mdtype_value\u001b[0m \u001b[0;34m=\u001b[0m \u001b[0mattr_value_pb2\u001b[0m\u001b[0;34m.\u001b[0m\u001b[0mAttrValue\u001b[0m\u001b[0;34m(\u001b[0m\u001b[0mtype\u001b[0m\u001b[0;34m=\u001b[0m\u001b[0mtensor_value\u001b[0m\u001b[0;34m.\u001b[0m\u001b[0mtensor\u001b[0m\u001b[0;34m.\u001b[0m\u001b[0mdtype\u001b[0m\u001b[0;34m)\u001b[0m\u001b[0;34m\u001b[0m\u001b[0;34m\u001b[0m\u001b[0m\n\u001b[1;32m    210\u001b[0m   const_tensor = g.create_op(\n",
      "\u001b[0;32m/usr/local/lib/python3.6/dist-packages/tensorflow/python/framework/tensor_util.py\u001b[0m in \u001b[0;36mmake_tensor_proto\u001b[0;34m(values, dtype, shape, verify_shape)\u001b[0m\n\u001b[1;32m    529\u001b[0m       raise TypeError(\"Failed to convert object of type %s to Tensor. \"\n\u001b[1;32m    530\u001b[0m                       \u001b[0;34m\"Contents: %s. Consider casting elements to a \"\u001b[0m\u001b[0;34m\u001b[0m\u001b[0;34m\u001b[0m\u001b[0m\n\u001b[0;32m--> 531\u001b[0;31m                       \"supported type.\" % (type(values), values))\n\u001b[0m\u001b[1;32m    532\u001b[0m     \u001b[0mtensor_proto\u001b[0m\u001b[0;34m.\u001b[0m\u001b[0mstring_val\u001b[0m\u001b[0;34m.\u001b[0m\u001b[0mextend\u001b[0m\u001b[0;34m(\u001b[0m\u001b[0mstr_values\u001b[0m\u001b[0;34m)\u001b[0m\u001b[0;34m\u001b[0m\u001b[0;34m\u001b[0m\u001b[0m\n\u001b[1;32m    533\u001b[0m     \u001b[0;32mreturn\u001b[0m \u001b[0mtensor_proto\u001b[0m\u001b[0;34m\u001b[0m\u001b[0;34m\u001b[0m\u001b[0m\n",
      "\u001b[0;31mTypeError\u001b[0m: Failed to convert object of type <class 'tuple'> to Tensor. Contents: (                                            tweet_text sentiment  \\\n0    :Hello Japan is a nuclear power plant crisis. ...        -1   \n1    . Renewable Energy Consumption Tops Nuclear fo...         0   \n2    . Will liberals now seek to eliminate dangerou...         0   \n3    (Aug 22,2011)Plant Status of Fukushima Daiichi...         0   \n4    [ebook] Nuclear Energy and the Environment: Ox...         0   \n6    [news] Nuclear Power Plant: Radioactive Tritiu...         0   \n7    [science] Nuclear Energy and the Environment: ...         0   \n8    {link} :P How many windmills would you need to...         0   \n9    {link} &quot;The right thing to do&quot; I'm f...         1   \n10   {link} 6 min Video: Masao Yoshida, of Fukushim...         0   \n11   {link} 74 percent favor gradual reduction of n...         0   \n12   {link} Coal seen as possible alternative to nu...         0   \n13   {link} Experts are not sure of the economic si...         0   \n14   {link} Five Star廟ｨ Enters Nuclear Power Supply...         0   \n15   {link} Five Star廟ｨ Enters Nuclear Power Supply...         0   \n16   {link} health newspaper articles Complete reje...         0   \n17   {link} India to accord highest safety standard...         0   \n18   {link} Nuclear Power 101 via Arnie Gundersen w...         0   \n19   {link} PM bats for nuclear energy - Times of I...         0   \n20   {link} Saudi Arabia's Nuclear Energy Ambitions...         0   \n21   {link} The 1940 Olympics, decreased rice consu...         0   \n22   {link} What's happening @mention Fukushima nuc...         0   \n23   {link} Would you rather have a few dozen wind ...        -1   \n24   {link} YNN/Marist Poll: How New Yorkers feel a...         0   \n25   @mention Ever hears talk of a place in north M...         0   \n26   @mention No. It's in north west Missouri it's ...         0   \n27   @mention LOL The best bumper sticker I ever sa...         0   \n28   @mention - newamerica9.com is an investment we...         0   \n29   RT @mention : Science Saturday: Nuclear energy...         0   \n30   RT @mention 'Hinkley Point C' - Britain's newe...         0   \n..                                                 ...       ...   \n160  @mention report, 'Laser Advances in Nuclear Fu...         0   \n161  RT @mention Reporting from the grounds of Fuku...         0   \n162  @mention rolling back regulations? Is that bec...         0   \n163  RT @mention RT @mention 66th Carnival of Nucle...         0   \n164  RT @mention RT @mention Progress report on #Fu...         0   \n165  RT @mention RT廟ﾒ@mention Report: Ground Under ...        -1   \n166  RT @mention Russia in talks to build MORE nucl...         0   \n167  RT @mention Russia proposed cooperating w IR o...         0   \n168  RT @mention Saudi Arabia boosts its nuclear en...        -1   \n169  RT @mention Saudi Arabia廟ﾕs Nuclear Energy Amb...         0   \n170  RT @mention Science Saturday: Nuclear energy, ...         0   \n171  RT @mention Science Saturday: Nuclear Energy, ...         0   \n172  RT @mention Should nuclear power be feared? Or...         0   \n173  RT @mention Slovenia's nuclear power plant in ...         0   \n174  RT @mention Smart, important post. RT @mention...         0   \n175  @mention Sounds good. And agreed on the boats....         0   \n176  RT @mention SPOTLIGHT: U.S. Nuclear Safety is ...         0   \n177  @mention still more people than have ever died...        -1   \n178  RT @mention Stop talking,start building nuclea...         0   \n179  RT @mention Studying radioactive sulfur from F...         0   \n180  @mention Tainted food, bribery, issues with nu...         0   \n181  @mention That would be nice. &quot;Health and ...        -1   \n182  RT @mention The 65th Carnival of Pro Nuclear b...         0   \n183  RT @mention The cement engulfed his organs, mu...         0   \n184  @mention The drinking bird was predisposed ven...         0   \n185  RT @mention The First Nuclear Reactor Since Th...         0   \n186  RT @mention The government plans to rent all l...         0   \n187  RT @mention The Hindu : News / National : Nucl...         0   \n188  RT @mention THE NUCLEAR ENERGY OPTION. The fam...         0   \n189  RT @mention The US #nuclear industry is taking...         0   \n\n                          sentiment_confidence_summary  \n0    \"Neutral / author is just sharing information\"...  \n1    \"Neutral / author is just sharing information\"...  \n2    \"Neutral / author is just sharing information\"...  \n3    \"Neutral / author is just sharing information\"...  \n4    \"Neutral / author is just sharing information\"...  \n6    \"Neutral / author is just sharing information\"...  \n7    \"Neutral / author is just sharing information\"...  \n8    \"Neutral / author is just sharing information\"...  \n9    \"Neutral / author is just sharing information\"...  \n10   \"Neutral / author is just sharing information\"...  \n11   \"Neutral / author is just sharing information\"...  \n12   \"Neutral / author is just sharing information\"...  \n13   \"Neutral / author is just sharing information\"...  \n14   \"Neutral / author is just sharing information\"...  \n15   \"Neutral / author is just sharing information\"...  \n16   \"Neutral / author is just sharing information\"...  \n17   \"Neutral / author is just sharing information\"...  \n18   \"Neutral / author is just sharing information\"...  \n19   \"Neutral / author is just sharing information\"...  \n20   \"Neutral / author is just sharing information\"...  \n21   \"Tweet NOT related to nuclear energy\": 0.167\\n...  \n22   \"Neutral / author is just sharing information\"...  \n23   \"I can't tell\": 0.2\\n\"Neutral / author is just...  \n24   \"I can't tell\": 0.2\\n\"Neutral / author is just...  \n25   \"Neutral / author is just sharing information\"...  \n26   \"Neutral / author is just sharing information\"...  \n27   \"Tweet NOT related to nuclear energy\": 0.2\\n\"N...  \n28   \"Neutral / author is just sharing information\"...  \n29   \"I can't tell\": 0.2\\n\"Neutral / author is just...  \n30   \"Neutral / author is just sharing information\"...  \n..                                                 ...  \n160  \"Neutral / author is just sharing information\"...  \n161  \"Neutral / author is just sharing information\"...  \n162  \"Neutral / author is just sharing information\"...  \n163  \"Neutral / author is just sharing information\"...  \n164  \"Neutral / author is just sharing information\"...  \n165  \"Neutral / author is just sharing information\"...  \n166  \"I can't tell\": 0.167\\n\"Neutral / author is ju...  \n167  \"Neutral / author is just sharing information\"...  \n168  \"Neutral / author is just sharing information\"...  \n169  \"Neutral / author is just sharing information\"...  \n170  \"Neutral / author is just sharing information\"...  \n171  \"Neutral / author is just sharing information\"...  \n172  \"Neutral / author is just sharing information\"...  \n173  \"Neutral / author is just sharing information\"...  \n174  \"Neutral / author is just sharing information\"...  \n175  \"Neutral / author is just sharing information\"...  \n176  \"Neutral / author is just sharing information\"...  \n177  \"Neutral / author is just sharing information\"...  \n178  \"Neutral / author is just sharing information\"...  \n179  \"Neutral / author is just sharing information\"...  \n180  \"Neutral / author is just sharing information\"...  \n181  \"I can't tell\": 0.125\\n\"Neutral / author is ju...  \n182  \"Neutral / author is just sharing information\"...  \n183  \"Tweet NOT related to nuclear energy\": 0.2\\n\"N...  \n184  \"I can't tell\": 0.167\\n\"Neutral / author is ju...  \n185  \"Neutral / author is just sharing information\"...  \n186  \"Neutral / author is just sharing information\"...  \n187  \"Neutral / author is just sharing information\"...  \n188  \"Neutral / author is just sharing information\"...  \n189  \"Neutral / author is just sharing information\"...  \n\n[189 rows x 3 columns], 32). Consider casting elements to a supported type."
     ]
    }
   ],
   "source": [
    "embedding_size=32\n",
    "model=Sequential()\n",
    "model.add(Embedding(df, embedding_size, input_length=500))\n",
    "model.add(LSTM(100))\n",
    "model.add(Dense(1, activation='sigmoid'))\n",
    "print(model.summary())"
   ]
  }
 ],
 "metadata": {
  "kernelspec": {
   "display_name": "Python 3",
   "language": "python",
   "name": "python3"
  },
  "language_info": {
   "codemirror_mode": {
    "name": "ipython",
    "version": 3
   },
   "file_extension": ".py",
   "mimetype": "text/x-python",
   "name": "python",
   "nbconvert_exporter": "python",
   "pygments_lexer": "ipython3",
   "version": "3.6.7"
  }
 },
 "nbformat": 4,
 "nbformat_minor": 2
}
